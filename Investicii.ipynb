{
  "nbformat": 4,
  "nbformat_minor": 0,
  "metadata": {
    "colab": {
      "name": "Untitled1.ipynb",
      "provenance": []
    },
    "kernelspec": {
      "name": "python3",
      "display_name": "Python 3"
    }
  },
  "cells": [
    {
      "cell_type": "markdown",
      "metadata": {
        "id": "KcPwKr0cs4AQ"
      },
      "source": [
        "# **ИНВЕСТИЦИИ**\r\n",
        "I уровень сложности"
      ]
    },
    {
      "cell_type": "code",
      "metadata": {
        "id": "5S-tNKN-sZlo"
      },
      "source": [
        "import pandas as pd\r\n",
        "data = pd.read_csv('./YNDX_160101_161231.csv') #Импортируем pandas и загружаем таблицу"
      ],
      "execution_count": 2,
      "outputs": []
    },
    {
      "cell_type": "code",
      "metadata": {
        "colab": {
          "base_uri": "https://localhost:8080/",
          "height": 200
        },
        "id": "P2tJTpBe_AW3",
        "outputId": "ce9e4e0d-0d27-4861-c3af-6effb3d6393d"
      },
      "source": [
        "data.head() #посмотрим на данные"
      ],
      "execution_count": 3,
      "outputs": [
        {
          "output_type": "execute_result",
          "data": {
            "text/html": [
              "<div>\n",
              "<style scoped>\n",
              "    .dataframe tbody tr th:only-of-type {\n",
              "        vertical-align: middle;\n",
              "    }\n",
              "\n",
              "    .dataframe tbody tr th {\n",
              "        vertical-align: top;\n",
              "    }\n",
              "\n",
              "    .dataframe thead th {\n",
              "        text-align: right;\n",
              "    }\n",
              "</style>\n",
              "<table border=\"1\" class=\"dataframe\">\n",
              "  <thead>\n",
              "    <tr style=\"text-align: right;\">\n",
              "      <th></th>\n",
              "      <th>&lt;DATE&gt;</th>\n",
              "      <th>&lt;TIME&gt;</th>\n",
              "      <th>&lt;OPEN&gt;</th>\n",
              "      <th>&lt;HIGH&gt;</th>\n",
              "      <th>&lt;LOW&gt;</th>\n",
              "      <th>&lt;CLOSE&gt;</th>\n",
              "      <th>&lt;VOL&gt;</th>\n",
              "    </tr>\n",
              "  </thead>\n",
              "  <tbody>\n",
              "    <tr>\n",
              "      <th>0</th>\n",
              "      <td>20160104</td>\n",
              "      <td>100100</td>\n",
              "      <td>1148.9</td>\n",
              "      <td>1148.9</td>\n",
              "      <td>1148.9</td>\n",
              "      <td>1148.9</td>\n",
              "      <td>0.0</td>\n",
              "    </tr>\n",
              "    <tr>\n",
              "      <th>1</th>\n",
              "      <td>20160104</td>\n",
              "      <td>100200</td>\n",
              "      <td>1148.9</td>\n",
              "      <td>1148.9</td>\n",
              "      <td>1148.9</td>\n",
              "      <td>1148.9</td>\n",
              "      <td>50.0</td>\n",
              "    </tr>\n",
              "    <tr>\n",
              "      <th>2</th>\n",
              "      <td>20160104</td>\n",
              "      <td>100300</td>\n",
              "      <td>1149.0</td>\n",
              "      <td>1149.0</td>\n",
              "      <td>1149.0</td>\n",
              "      <td>1149.0</td>\n",
              "      <td>33.0</td>\n",
              "    </tr>\n",
              "    <tr>\n",
              "      <th>3</th>\n",
              "      <td>20160104</td>\n",
              "      <td>100400</td>\n",
              "      <td>1149.0</td>\n",
              "      <td>1149.0</td>\n",
              "      <td>1149.0</td>\n",
              "      <td>1149.0</td>\n",
              "      <td>4.0</td>\n",
              "    </tr>\n",
              "    <tr>\n",
              "      <th>4</th>\n",
              "      <td>20160104</td>\n",
              "      <td>100500</td>\n",
              "      <td>1153.0</td>\n",
              "      <td>1153.0</td>\n",
              "      <td>1153.0</td>\n",
              "      <td>1153.0</td>\n",
              "      <td>0.0</td>\n",
              "    </tr>\n",
              "  </tbody>\n",
              "</table>\n",
              "</div>"
            ],
            "text/plain": [
              "     <DATE>  <TIME>  <OPEN>  <HIGH>   <LOW>  <CLOSE>  <VOL>\n",
              "0  20160104  100100  1148.9  1148.9  1148.9   1148.9    0.0\n",
              "1  20160104  100200  1148.9  1148.9  1148.9   1148.9   50.0\n",
              "2  20160104  100300  1149.0  1149.0  1149.0   1149.0   33.0\n",
              "3  20160104  100400  1149.0  1149.0  1149.0   1149.0    4.0\n",
              "4  20160104  100500  1153.0  1153.0  1153.0   1153.0    0.0"
            ]
          },
          "metadata": {
            "tags": []
          },
          "execution_count": 3
        }
      ]
    },
    {
      "cell_type": "code",
      "metadata": {
        "colab": {
          "base_uri": "https://localhost:8080/"
        },
        "id": "EuD8CPHvBMN0",
        "outputId": "40934efc-deb5-4e0a-c014-2d52d793b794"
      },
      "source": [
        "data.loc[data['<HIGH>'].idxmax()] #Посмотрим на максимум в столбце <HIGH>"
      ],
      "execution_count": 4,
      "outputs": [
        {
          "output_type": "execute_result",
          "data": {
            "text/plain": [
              "<DATE>     20160728.0\n",
              "<TIME>       163400.0\n",
              "<OPEN>         1536.5\n",
              "<HIGH>         1543.0\n",
              "<LOW>          1530.0\n",
              "<CLOSE>        1534.0\n",
              "<VOL>          5952.0\n",
              "Name: 73993, dtype: float64"
            ]
          },
          "metadata": {
            "tags": []
          },
          "execution_count": 4
        }
      ]
    },
    {
      "cell_type": "code",
      "metadata": {
        "id": "bfY66-VeOHID"
      },
      "source": [
        "def transaction(data, k_old, max):\r\n",
        "  \"\"\" Функция, которая ищет максимальную прибыль в\r\n",
        "      операции покупка-продажа\r\n",
        "  \"\"\"\r\n",
        "  max = 0\r\n",
        "  k = data[k_old+1:]['<HIGH>'].argmax()\r\n",
        "  if k_old < len(data)-1:\r\n",
        "    for i in range(k_old+1, k):\r\n",
        "      if data.loc[i, '<VOL>'] != 0:\r\n",
        "        buy = data.loc[i, '<LOW>'] * data.loc[i, '<VOL>']\r\n",
        "        if data.loc[k, '<HIGH>'] * data.loc[i, '<VOL>'] - buy > max:\r\n",
        "          max = data.loc[k, '<HIGH>'] * data.loc[i, '<VOL>'] - buy\r\n",
        "          data_buy = data.loc[i, '<DATE>']\r\n",
        "          data_cell = data.loc[k, '<DATE>']\r\n",
        "          return (max, k, data_buy, data_cell)\r\n",
        "  else:\r\n",
        "    return False"
      ],
      "execution_count": 5,
      "outputs": []
    },
    {
      "cell_type": "code",
      "metadata": {
        "colab": {
          "base_uri": "https://localhost:8080/"
        },
        "id": "qFSx4aIQRzTG",
        "outputId": "7daa216b-5da4-498e-cb42-0857bf53ced0"
      },
      "source": [
        "k_old = -1\r\n",
        "max = 0\r\n",
        "while transaction(data, k_old, max):  #Рекурсивный вызов функции в цикле\r\n",
        "  ans = transaction(data, k_old, max)\r\n",
        "  max, k_old, data_buy, data_cell = ans[0], ans[1], ans[2], ans[3]\r\n",
        "print(ans)"
      ],
      "execution_count": 6,
      "outputs": [
        {
          "output_type": "stream",
          "text": [
            "(19704.999999999993, 73993, 20160104, 20160728)\n"
          ],
          "name": "stdout"
        }
      ]
    },
    {
      "cell_type": "code",
      "metadata": {
        "colab": {
          "base_uri": "https://localhost:8080/"
        },
        "id": "9quQ7ouYsQES",
        "outputId": "55f6b33b-0587-4e9c-f53e-e1c6597b757f"
      },
      "source": [
        "print(\"Максимальная прибыль равняется:\", max)\r\n",
        "print(\"Дата покупки акций:\", data_buy)\r\n",
        "print(\"Дата продажи акций:\", data_cell)"
      ],
      "execution_count": 7,
      "outputs": [
        {
          "output_type": "stream",
          "text": [
            "Максимальная прибыль равняется: 19704.999999999993\n",
            "Дата покупки акций: 20160104\n",
            "Дата продажи акций: 20160728\n"
          ],
          "name": "stdout"
        }
      ]
    },
    {
      "cell_type": "code",
      "metadata": {
        "id": "RUBrpFcbsT22"
      },
      "source": [
        ""
      ],
      "execution_count": null,
      "outputs": []
    }
  ]
}